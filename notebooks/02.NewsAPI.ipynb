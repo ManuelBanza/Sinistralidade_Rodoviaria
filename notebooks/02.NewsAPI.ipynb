{
 "cells": [
  {
   "cell_type": "code",
   "execution_count": 3,
   "id": "94c320e6-5c03-4c53-899d-59366f8f7aa9",
   "metadata": {},
   "outputs": [],
   "source": [
    "import requests\n",
    "import pandas as pd\n",
    "from datetime import datetime, timedelta\n",
    "import io\n",
    "from pandas.io.json import json_normalize"
   ]
  },
  {
   "cell_type": "code",
   "execution_count": 6,
   "id": "42152645-b101-42fa-ae2f-c3104257512f",
   "metadata": {},
   "outputs": [
    {
     "name": "stdout",
     "output_type": "stream",
     "text": [
      "100\n"
     ]
    }
   ],
   "source": [
    "# newsapi\n",
    "\n",
    "api_key = '20b7ba02045b4d02999affa48d7e4969'\n",
    "query = 'acidente carro'\n",
    "country = 'pt'\n",
    "\n",
    "url = 'https://newsapi.org/v2/everything?q={}&apiKey={}'.format(query, api_key)\n",
    "response = requests.get(url)\n",
    "\n",
    "if response.status_code == 200:\n",
    "    articles = response.json()['articles']\n",
    "\n",
    "    # Create a list of dictionaries with the relevant information for each article\n",
    "    data = [{'title': article['title'], 'url': article['url'], 'source': article['source']['name']} for article in articles]\n",
    "\n",
    "    # Create a Pandas dataframe from the data\n",
    "    df = pd.DataFrame(data)\n",
    "\n",
    "    # Print the dataframe\n",
    "    print(len(df))\n",
    "else:\n",
    "    print('An error occurred:', response.status_code)"
   ]
  },
  {
   "cell_type": "code",
   "execution_count": 7,
   "id": "139ab0fd-a03f-49e0-9734-a4d240a5dbf5",
   "metadata": {},
   "outputs": [
    {
     "data": {
      "text/html": [
       "<div>\n",
       "<style scoped>\n",
       "    .dataframe tbody tr th:only-of-type {\n",
       "        vertical-align: middle;\n",
       "    }\n",
       "\n",
       "    .dataframe tbody tr th {\n",
       "        vertical-align: top;\n",
       "    }\n",
       "\n",
       "    .dataframe thead th {\n",
       "        text-align: right;\n",
       "    }\n",
       "</style>\n",
       "<table border=\"1\" class=\"dataframe\">\n",
       "  <thead>\n",
       "    <tr style=\"text-align: right;\">\n",
       "      <th></th>\n",
       "      <th>title</th>\n",
       "      <th>url</th>\n",
       "      <th>source</th>\n",
       "    </tr>\n",
       "  </thead>\n",
       "  <tbody>\n",
       "    <tr>\n",
       "      <th>0</th>\n",
       "      <td>Serviço da Apple salva vida de casal nos Estad...</td>\n",
       "      <td>https://olhardigital.com.br/2022/12/20/seguran...</td>\n",
       "      <td>Olhardigital.com.br</td>\n",
       "    </tr>\n",
       "    <tr>\n",
       "      <th>1</th>\n",
       "      <td>Polícia esta investigando membro da equipe de ...</td>\n",
       "      <td>https://olhardigital.com.br/2022/12/26/pro/pol...</td>\n",
       "      <td>Olhardigital.com.br</td>\n",
       "    </tr>\n",
       "  </tbody>\n",
       "</table>\n",
       "</div>"
      ],
      "text/plain": [
       "                                               title  \\\n",
       "0  Serviço da Apple salva vida de casal nos Estad...   \n",
       "1  Polícia esta investigando membro da equipe de ...   \n",
       "\n",
       "                                                 url               source  \n",
       "0  https://olhardigital.com.br/2022/12/20/seguran...  Olhardigital.com.br  \n",
       "1  https://olhardigital.com.br/2022/12/26/pro/pol...  Olhardigital.com.br  "
      ]
     },
     "execution_count": 7,
     "metadata": {},
     "output_type": "execute_result"
    }
   ],
   "source": [
    "df.head(2)"
   ]
  },
  {
   "cell_type": "code",
   "execution_count": 9,
   "id": "664d31ac-d93b-4b88-8355-b29599f31e52",
   "metadata": {},
   "outputs": [],
   "source": [
    "# Get today date now to file name when export to csv or excel with encoding utf8\n",
    "df.to_csv((datetime.now()+timedelta(hours=1)).strftime('../data_sources/data_transformed/news_api-%Y-%m-%d-%H-%M-%S.csv'), encoding='utf8', index=False)"
   ]
  },
  {
   "cell_type": "code",
   "execution_count": null,
   "id": "a4c036cb-e705-40ca-95f7-3a4a334b14b8",
   "metadata": {},
   "outputs": [],
   "source": []
  }
 ],
 "metadata": {
  "kernelspec": {
   "display_name": "Python 3 (ipykernel)",
   "language": "python",
   "name": "python3"
  },
  "language_info": {
   "codemirror_mode": {
    "name": "ipython",
    "version": 3
   },
   "file_extension": ".py",
   "mimetype": "text/x-python",
   "name": "python",
   "nbconvert_exporter": "python",
   "pygments_lexer": "ipython3",
   "version": "3.9.13"
  }
 },
 "nbformat": 4,
 "nbformat_minor": 5
}
